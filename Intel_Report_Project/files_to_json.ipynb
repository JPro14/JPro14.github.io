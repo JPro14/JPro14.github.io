{
  "nbformat": 4,
  "nbformat_minor": 0,
  "metadata": {
    "colab": {
      "name": "files_to_json.ipynb",
      "provenance": [],
      "collapsed_sections": []
    },
    "kernelspec": {
      "name": "python3",
      "display_name": "Python 3"
    },
    "language_info": {
      "name": "python"
    }
  },
  "cells": [
    {
      "cell_type": "code",
      "source": [
        "# This notebook was created with Google Colab.\n",
        "\n",
        "# It puts the contents of the input text files into a JSON file.\n",
        "\n",
        "# Before running this notebook, make sure your data is in a folder at the path \"My Drive/Colab Notebooks/data\"."
      ],
      "metadata": {
        "id": "Yg-ioYHQZkAp"
      },
      "execution_count": 3,
      "outputs": []
    },
    {
      "cell_type": "code",
      "source": [
        "import os\n",
        "import json"
      ],
      "metadata": {
        "id": "ukrU-N4TaNlg"
      },
      "execution_count": 4,
      "outputs": []
    },
    {
      "cell_type": "code",
      "execution_count": 1,
      "metadata": {
        "colab": {
          "base_uri": "https://localhost:8080/"
        },
        "id": "V5e_me75ZS5r",
        "outputId": "3bde470b-d2f1-4c8f-b707-0e26a87e02e7"
      },
      "outputs": [
        {
          "output_type": "stream",
          "name": "stdout",
          "text": [
            "Mounted at /content/drive\n"
          ]
        }
      ],
      "source": [
        "# Use Google Drive to access files\n",
        "from google.colab import drive\n",
        "drive.mount('/content/drive')"
      ]
    },
    {
      "cell_type": "code",
      "source": [
        "# Navigate to \"Colab Notebooks folder\"\n",
        "%cd /content/drive/My Drive/Colab Notebooks"
      ],
      "metadata": {
        "colab": {
          "base_uri": "https://localhost:8080/"
        },
        "id": "6Sz23a_tZeUo",
        "outputId": "38b8785c-4250-43c9-8479-41d7e6a99008"
      },
      "execution_count": 2,
      "outputs": [
        {
          "output_type": "stream",
          "name": "stdout",
          "text": [
            "/content/drive/My Drive/Colab Notebooks\n"
          ]
        }
      ]
    },
    {
      "cell_type": "code",
      "source": [
        "# Read files (each file is a single line)\n",
        "build_json = {}\n",
        "for file in os.listdir('data'):\n",
        "  with open('data//' + file) as f:\n",
        "    line = f.readline()\n",
        "    build_json[file] = line"
      ],
      "metadata": {
        "id": "p18or9VXZwkN"
      },
      "execution_count": 5,
      "outputs": []
    },
    {
      "cell_type": "code",
      "source": [
        "# Save JSON to file in the format: {file name: file text}\n",
        "with open('files.json', 'w') as outf:\n",
        "  json.dump(build_json, outf)"
      ],
      "metadata": {
        "id": "exTGK5vaaToc"
      },
      "execution_count": 7,
      "outputs": []
    }
  ]
}